{
  "cells": [
    {
      "cell_type": "markdown",
      "metadata": {
        "id": "view-in-github",
        "colab_type": "text"
      },
      "source": [
        "<a href=\"https://colab.research.google.com/github/tunatuna123/statistics/blob/main/t_test.ipynb\" target=\"_parent\"><img src=\"https://colab.research.google.com/assets/colab-badge.svg\" alt=\"Open In Colab\"/></a>"
      ]
    },
    {
      "cell_type": "code",
      "execution_count": 1,
      "metadata": {
        "id": "PYqtOkbZqev9"
      },
      "outputs": [],
      "source": [
        "import numpy as np\n",
        "from scipy import stats\n",
        "import seaborn as sns\n",
        "import matplotlib.pyplot as plt"
      ]
    },
    {
      "cell_type": "markdown",
      "metadata": {
        "id": "6k0CDuigqewB"
      },
      "source": [
        "# 테스트 데이터\n",
        "### 독립 표본 t-검정\n",
        "\n",
        "사전 테스트 점수와 사후 테스트 데이터 점수를 비교해 '훈련 이후 점수의 상승이 있었는가?'라는 가설 검정을 위한 가상의 데이터\n",
        "\n",
        "해당 데이터는 책 '만만한 통계 : Excel 활용'에서 가져옴"
      ]
    },
    {
      "cell_type": "code",
      "execution_count": 2,
      "metadata": {
        "id": "R5o_DpQuqewD"
      },
      "outputs": [],
      "source": [
        "before = [3,5,4,6,5,5,4,5,3,6,7,8,7,6,7,8,8,9,9,8,7,7,6,7,8]\n",
        "after = [7,8,6,7,8,9,6,6,7,8,8,7,9,10,9,9,8,8,4,4,5,6,9,8,12]"
      ]
    },
    {
      "cell_type": "code",
      "execution_count": 3,
      "metadata": {
        "id": "n9LUprg5qewD",
        "outputId": "9ea69bd1-7e33-4436-d6ae-bbde7147ed2f",
        "colab": {
          "base_uri": "https://localhost:8080/"
        }
      },
      "outputs": [
        {
          "output_type": "stream",
          "name": "stdout",
          "text": [
            "before의 크기 : 25\n",
            "after의 크기 : 25\n"
          ]
        }
      ],
      "source": [
        "print(\"before의 크기 : {}\".format(len(before)))\n",
        "print(\"after의 크기 : {}\".format(len(after)))"
      ]
    },
    {
      "cell_type": "code",
      "execution_count": 4,
      "metadata": {
        "id": "ZcG-z9GzqewE",
        "outputId": "1a071255-b894-43a4-8d05-2024eebec161",
        "colab": {
          "base_uri": "https://localhost:8080/"
        }
      },
      "outputs": [
        {
          "output_type": "stream",
          "name": "stdout",
          "text": [
            "before의 평균 : 6.32\n",
            "after의 평균 : 7.52\n"
          ]
        }
      ],
      "source": [
        "print(\"before의 평균 : {}\".format(np.mean(before)))\n",
        "print(\"after의 평균 : {}\".format(np.mean(after)))"
      ]
    },
    {
      "cell_type": "code",
      "execution_count": 5,
      "metadata": {
        "id": "dtNXwwxFqewE"
      },
      "outputs": [],
      "source": [
        "t_test1 = stats.ttest_ind(before,after)"
      ]
    },
    {
      "cell_type": "code",
      "execution_count": 6,
      "metadata": {
        "id": "LUyZZs4pqewF",
        "outputId": "c9d57a85-a83a-4203-f7c8-e5b306436335",
        "colab": {
          "base_uri": "https://localhost:8080/"
        }
      },
      "outputs": [
        {
          "output_type": "stream",
          "name": "stdout",
          "text": [
            "pvalue : 0.020991122894041352\n"
          ]
        }
      ],
      "source": [
        "print(\"pvalue : {}\".format(t_test1[1]))"
      ]
    },
    {
      "cell_type": "markdown",
      "metadata": {
        "id": "0_jZoPmuqewF"
      },
      "source": [
        "p값이 0.02이므로, 유의 수준이 5%(0.05)일 경우보다 작으므로, 귀무가설을 기각, 대립가설을 채택할 수 있으며, 따라서 훈련이 점수의 상승에 효과를 주었다고 판단할 수 있다."
      ]
    },
    {
      "cell_type": "code",
      "execution_count": 7,
      "metadata": {
        "id": "RRqYiBmeqewF",
        "outputId": "82973fab-b412-4df1-f30c-8d2b84e9babc",
        "colab": {
          "base_uri": "https://localhost:8080/",
          "height": 353
        }
      },
      "outputs": [
        {
          "output_type": "stream",
          "name": "stderr",
          "text": [
            "/usr/local/lib/python3.8/dist-packages/seaborn/distributions.py:2619: FutureWarning: `distplot` is a deprecated function and will be removed in a future version. Please adapt your code to use either `displot` (a figure-level function with similar flexibility) or `histplot` (an axes-level function for histograms).\n",
            "  warnings.warn(msg, FutureWarning)\n",
            "/usr/local/lib/python3.8/dist-packages/seaborn/distributions.py:2619: FutureWarning: `distplot` is a deprecated function and will be removed in a future version. Please adapt your code to use either `displot` (a figure-level function with similar flexibility) or `histplot` (an axes-level function for histograms).\n",
            "  warnings.warn(msg, FutureWarning)\n"
          ]
        },
        {
          "output_type": "display_data",
          "data": {
            "text/plain": [
              "<Figure size 432x288 with 1 Axes>"
            ],
            "image/png": "[encoded data removed]"
          },
          "metadata": {
            "needs_background": "light"
          }
        }
      ],
      "source": [
        "ax = sns.distplot(before, kde=False, fit=stats.norm, label=\"before\")\n",
        "ax = sns.distplot(after, kde=False, fit=stats.norm, label=\"after\")\n",
        "ax.lines[0].set_linestyle(\":\")\n",
        "plt.legend()\n",
        "plt.show()"
      ]
    }
  ],
  "metadata": {
    "kernelspec": {
      "display_name": "base",
      "language": "python",
      "name": "python3"
    },
    "language_info": {
      "codemirror_mode": {
        "name": "ipython",
        "version": 3
      },
      "file_extension": ".py",
      "mimetype": "text/x-python",
      "name": "python",
      "nbconvert_exporter": "python",
      "pygments_lexer": "ipython3",
      "version": "3.9.12"
    },
    "orig_nbformat": 4,
    "vscode": {
      "interpreter": {
        "hash": "9434828f095e3c7f81de2b0ed05aae11f19a243952185cf877cd352124c91c80"
      }
    },
    "colab": {
      "provenance": [],
      "include_colab_link": true
    }
  },
  "nbformat": 4,
  "nbformat_minor": 0
}